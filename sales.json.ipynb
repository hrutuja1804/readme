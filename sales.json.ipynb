{
 "cells": [
  {
   "cell_type": "code",
   "execution_count": 2,
   "id": "4ededa1e",
   "metadata": {},
   "outputs": [
    {
     "data": {
      "text/plain": [
       "{'4': {'id': '28',\n",
       "  'Customer Name': 'qwe',\n",
       "  'product Name': 'Maza',\n",
       "  'price': 20,\n",
       "  'Quantity': 90,\n",
       "  'Total': 1800.0,\n",
       "  'Date/Time': '02 Sep 2021 :: Sunday,12:16:40'}}"
      ]
     },
     "execution_count": 2,
     "metadata": {},
     "output_type": "execute_result"
    }
   ],
   "source": [
    "{\n",
    "    \"1\": {\n",
    "        \"id\": \"28\",\n",
    "        \"Customer Name\": \"xyz\",\n",
    "        \"product Name\": \"Maza\",\n",
    "        \"price\": 20,\n",
    "        \"Quantity\": 10,\n",
    "        \"Total\": 200.0,\n",
    "        \"Date/Time\": \"02 Sep 2021 :: Sunday,09:16:24\"\n",
    "    }\n",
    "}\n",
    "{\n",
    "    \"2\": {\n",
    "        \"id\": \"30\",\n",
    "        \"Customer Name\": \"abc\",\n",
    "        \"product Name\": \"Sprite\",\n",
    "        \"price\": 15,\n",
    "        \"Quantity\": 30,\n",
    "        \"Total\": 450.0,\n",
    "        \"Date/Time\": \"02 Sep 2021 :: Sunday,09:46:05\"\n",
    "    }\n",
    "}\n",
    "\n",
    "{\n",
    "    \"3\": {\n",
    "        \"id\": \"29\",\n",
    "        \"Customer Name\": \"asd\",\n",
    "        \"product Name\": \"fruty\",\n",
    "        \"price\": 45,\n",
    "        \"Quantity\": 20,\n",
    "        \"Total\": 900.0,\n",
    "        \"Date/Time\": \"02 Sep 2021 :: Sunday,10:16:20\"\n",
    "    }\n",
    "}\n",
    "\n",
    "{\n",
    "    \"4\": {\n",
    "        \"id\": \"28\",\n",
    "        \"Customer Name\": \"qwe\",\n",
    "        \"product Name\": \"Maza\",\n",
    "        \"price\": 20,\n",
    "        \"Quantity\": 90,\n",
    "        \"Total\": 1800.0,\n",
    "        \"Date/Time\": \"02 Sep 2021 :: Sunday,12:16:40\"\n",
    "    }\n",
    "}"
   ]
  },
  {
   "cell_type": "code",
   "execution_count": null,
   "id": "fd123a03",
   "metadata": {},
   "outputs": [],
   "source": []
  }
 ],
 "metadata": {
  "kernelspec": {
   "display_name": "Python 3",
   "language": "python",
   "name": "python3"
  },
  "language_info": {
   "codemirror_mode": {
    "name": "ipython",
    "version": 3
   },
   "file_extension": ".py",
   "mimetype": "text/x-python",
   "name": "python",
   "nbconvert_exporter": "python",
   "pygments_lexer": "ipython3",
   "version": "3.8.8"
  }
 },
 "nbformat": 4,
 "nbformat_minor": 5
}
